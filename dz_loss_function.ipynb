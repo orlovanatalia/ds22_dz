{
 "cells": [
  {
   "cell_type": "markdown",
   "id": "a00aced4",
   "metadata": {},
   "source": [
    "### Домашнее задание к занятию \"Функции потерь и оптимизация\""
   ]
  },
  {
   "cell_type": "code",
   "execution_count": 214,
   "id": "5f9688d9",
   "metadata": {},
   "outputs": [],
   "source": [
    "import numpy as np\n",
    "from pandas import DataFrame\n",
    "from sklearn.datasets import make_blobs\n",
    "from sklearn.model_selection import train_test_split\n",
    "from sklearn.metrics import accuracy_score\n",
    "import matplotlib.pyplot as plt\n",
    "from sklearn import datasets\n",
    "from sklearn.datasets import make_classification"
   ]
  },
  {
   "cell_type": "markdown",
   "id": "d3650b6f",
   "metadata": {},
   "source": [
    "#### Реализуем логистическую регрессию"
   ]
  },
  {
   "cell_type": "code",
   "execution_count": 215,
   "id": "2b34b577",
   "metadata": {},
   "outputs": [
    {
     "data": {
      "image/png": "[encoded data removed]",
      "text/plain": [
       "<Figure size 432x288 with 1 Axes>"
      ]
     },
     "metadata": {
      "needs_background": "light"
     },
     "output_type": "display_data"
    }
   ],
   "source": [
    "X,y=make_classification(n_samples=100, n_features=2, n_redundant=0, n_informative=2, random_state=1, n_clusters_per_class=2)\n",
    "rng=np.random.RandomState(2)\n",
    "X+=2*rng.uniform(size=X.shape)\n",
    " \n",
    "unique_lables=set(y)\n",
    "colors=plt.cm.Spectral(np.linspace(0, 1, len(unique_lables)))\n",
    "for k, col in zip(unique_lables, colors):\n",
    "    x_k=X[y==k]\n",
    "    plt.plot(x_k[:, 0], x_k[:, 1], 'o', markerfacecolor=col, markeredgecolor=\"k\",\n",
    "             markersize=14)\n",
    "plt.title('data by make_classification()')\n",
    "plt.show()"
   ]
  },
  {
   "cell_type": "code",
   "execution_count": 216,
   "id": "79088e6c",
   "metadata": {},
   "outputs": [
    {
     "data": {
      "text/plain": [
       "array([[ 2.17221697, -0.73380144],\n",
       "       [ 2.54116921,  0.31055925],\n",
       "       [-0.00718884, -0.70554359],\n",
       "       [-0.31285288, -0.17275221],\n",
       "       [-0.67290531,  0.79310561]])"
      ]
     },
     "execution_count": 216,
     "metadata": {},
     "output_type": "execute_result"
    }
   ],
   "source": [
    "X[:5]"
   ]
  },
  {
   "cell_type": "code",
   "execution_count": 217,
   "id": "1fdcaeec",
   "metadata": {},
   "outputs": [
    {
     "data": {
      "text/plain": [
       "array([1, 1, 0, 0, 0])"
      ]
     },
     "execution_count": 217,
     "metadata": {},
     "output_type": "execute_result"
    }
   ],
   "source": [
    "y[:5]"
   ]
  },
  {
   "cell_type": "markdown",
   "id": "c85124b7",
   "metadata": {},
   "source": [
    "#### Обучаем модель методом градиентного спуска"
   ]
  },
  {
   "cell_type": "code",
   "execution_count": 218,
   "id": "54b6f18a",
   "metadata": {},
   "outputs": [],
   "source": [
    "W = [1,1]"
   ]
  },
  {
   "cell_type": "code",
   "execution_count": 219,
   "id": "c910db28",
   "metadata": {},
   "outputs": [],
   "source": [
    "b=0"
   ]
  },
  {
   "cell_type": "code",
   "execution_count": 220,
   "id": "c205ec68",
   "metadata": {},
   "outputs": [],
   "source": [
    "#Функция сигмоида\n",
    "def sigmoid(x):\n",
    "    z = 1 / (1 + np.exp(-x))    \n",
    "    return z"
   ]
  },
  {
   "cell_type": "code",
   "execution_count": 221,
   "id": "9e08d97b",
   "metadata": {},
   "outputs": [],
   "source": [
    "#Функция расчетов текущих результатов модели\n",
    "def logistic(X, y, W, b):\n",
    "    num_train = X.shape[0]\n",
    "    num_feature = X.shape[1]\n",
    " \n",
    "    a = sigmoid(np.dot(X, W) + b)\n",
    "    cost = -1/num_train * np.sum(y*np.log(a) + (1-y)*np.log(1-a))\n",
    " \n",
    "    dW = np.dot(X.T, (a-y))/num_train\n",
    "    db = np.sum(a-y)/num_train\n",
    "    cost = np.squeeze(cost) \n",
    "    return a, cost, dW, db"
   ]
  },
  {
   "cell_type": "code",
   "execution_count": 222,
   "id": "20aba45b",
   "metadata": {},
   "outputs": [],
   "source": [
    "#Функция обучения модели\n",
    "def logistic_train(X, y, W, b, learning_rate, epochs):    \n",
    "    cost_list = []  \n",
    "    # Обучение модели\n",
    "    for i in range(epochs):       \n",
    "        # Рассчитать результат расчета текущей модели, функцию потерь и градиент\n",
    "        a, cost, dW, db = logistic(X, y, W, b)    \n",
    "        # Обновление параметров\n",
    "        W = W -learning_rate * dW\n",
    "        b = b -learning_rate * db        \n",
    "        cost_list.append(cost)\n",
    "        \n",
    "        # Выводим на экран функцию потерь во время обучения \n",
    "        if i % 100 == 0:\n",
    "            print('epoch %d cost %f' % (i, cost)) \n",
    "    # Сохраняем параметры\n",
    "    params = {     \n",
    "        'W': W,            \n",
    "        'b': b\n",
    "    }        \n",
    "    # Сохраняем градиент\n",
    "    grads = {            \n",
    "        'dW': dW,            \n",
    "        'db': db\n",
    "    }           \n",
    "    return cost_list, params, grads"
   ]
  },
  {
   "cell_type": "code",
   "execution_count": 223,
   "id": "b5d4a8fe",
   "metadata": {},
   "outputs": [
    {
     "name": "stdout",
     "output_type": "stream",
     "text": [
      "epoch 0 cost 0.831632\n",
      "epoch 100 cost 0.587438\n",
      "epoch 200 cost 0.448497\n",
      "epoch 300 cost 0.380660\n",
      "epoch 400 cost 0.345646\n",
      "epoch 500 cost 0.324347\n",
      "epoch 600 cost 0.309417\n",
      "epoch 700 cost 0.297976\n",
      "epoch 800 cost 0.288733\n",
      "epoch 900 cost 0.281017\n"
     ]
    }
   ],
   "source": [
    "cost_list, params, grads = logistic_train(X, y, W, b, 0.01, 1000)"
   ]
  },
  {
   "cell_type": "code",
   "execution_count": 225,
   "id": "c1e13a96",
   "metadata": {},
   "outputs": [
    {
     "data": {
      "text/plain": [
       "{'W': array([ 1.73589525, -0.40847278]), 'b': -0.919661079423643}"
      ]
     },
     "execution_count": 225,
     "metadata": {},
     "output_type": "execute_result"
    }
   ],
   "source": [
    "params"
   ]
  },
  {
   "cell_type": "markdown",
   "id": "af487623",
   "metadata": {},
   "source": [
    "#### Обучаем модель методом nesterov momentum"
   ]
  },
  {
   "cell_type": "code",
   "execution_count": 226,
   "id": "4db02195",
   "metadata": {},
   "outputs": [],
   "source": [
    "#Функция обучения модели (добавляем параметр momentum)\n",
    "def logistic_mn_train(X, y, W, b, learning_rate, momentum, epochs):    \n",
    "    cost_list = []\n",
    "    # Определяем экспоненциальное скользящее среднее для параметров\n",
    "    dW_t = 0\n",
    "    db_t = 0\n",
    "    # Обучение модели\n",
    "    for i in range(epochs):       \n",
    "        # Рассчитаем результат расчета текущей модели, функцию потерь и градиент\n",
    "        a, cost, dW, db = logistic(X, y, W, b)    \n",
    "       \n",
    "        # Обновление параметров по формуле nesterov momentum\n",
    "        dW_t = momentum*dW_t+learning_rate*(1-momentum)*dW\n",
    "        db_t = momentum*db_t+learning_rate*(1-momentum)*db\n",
    "        W = W - dW_t\n",
    "        b = b - db_t        \n",
    " \n",
    "        cost_list.append(cost)   \n",
    "        # Выводим на экран функцию потерь во время обучения \n",
    "        if i % 100 == 0:\n",
    "            print('epoch %d cost %f' % (i, cost)) \n",
    "    # Сохраняем параметры\n",
    "    params = {     \n",
    "        'W': W,            \n",
    "        'b': b\n",
    "    }        \n",
    "    # Сохраняем градиент\n",
    "    grads = {            \n",
    "        'dW': dW,            \n",
    "        'db': db\n",
    "    }           \n",
    "    return cost_list, params, grads\n"
   ]
  },
  {
   "cell_type": "code",
   "execution_count": 228,
   "id": "78e74588",
   "metadata": {},
   "outputs": [
    {
     "name": "stdout",
     "output_type": "stream",
     "text": [
      "epoch 0 cost 0.831632\n",
      "epoch 100 cost 0.192439\n",
      "epoch 200 cost 0.185740\n",
      "epoch 300 cost 0.184238\n",
      "epoch 400 cost 0.183784\n",
      "epoch 500 cost 0.183629\n",
      "epoch 600 cost 0.183572\n",
      "epoch 700 cost 0.183551\n",
      "epoch 800 cost 0.183542\n",
      "epoch 900 cost 0.183539\n"
     ]
    }
   ],
   "source": [
    "cost_list, params, grads = logistic_mn_train(X, y, W, b, 0.9, 0.01, 1000)"
   ]
  },
  {
   "cell_type": "code",
   "execution_count": 229,
   "id": "fbbcad9c",
   "metadata": {},
   "outputs": [
    {
     "data": {
      "text/plain": [
       "{'W': array([ 4.78463776, -0.70549538]), 'b': -3.2780791546855452}"
      ]
     },
     "execution_count": 229,
     "metadata": {},
     "output_type": "execute_result"
    }
   ],
   "source": [
    "params"
   ]
  },
  {
   "cell_type": "code",
   "execution_count": null,
   "id": "cfd11931",
   "metadata": {},
   "outputs": [],
   "source": []
  }
 ],
 "metadata": {
  "kernelspec": {
   "display_name": "Python 3",
   "language": "python",
   "name": "python3"
  },
  "language_info": {
   "codemirror_mode": {
    "name": "ipython",
    "version": 3
   },
   "file_extension": ".py",
   "mimetype": "text/x-python",
   "name": "python",
   "nbconvert_exporter": "python",
   "pygments_lexer": "ipython3",
   "version": "3.9.4"
  }
 },
 "nbformat": 4,
 "nbformat_minor": 5
}
