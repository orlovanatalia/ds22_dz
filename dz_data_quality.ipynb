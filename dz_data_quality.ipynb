{
 "cells": [
  {
   "cell_type": "markdown",
   "id": "357e55ee",
   "metadata": {},
   "source": [
    "### Домашнее задание \"Проблема качества данных\""
   ]
  },
  {
   "cell_type": "code",
   "execution_count": 164,
   "id": "fe32d176",
   "metadata": {},
   "outputs": [],
   "source": [
    "import numpy as np\n",
    "import pandas as pd\n",
    "import seaborn as sns\n",
    "import random\n",
    "from sklearn.linear_model import LinearRegression\n",
    "from sklearn.metrics import mean_absolute_error"
   ]
  },
  {
   "cell_type": "markdown",
   "id": "623d3bbe",
   "metadata": {},
   "source": [
    "Допустим у нас есть датасет квартир, который выставлены на продажу."
   ]
  },
  {
   "cell_type": "code",
   "execution_count": 165,
   "id": "34246685",
   "metadata": {},
   "outputs": [],
   "source": [
    "n_samples = 1000\n",
    "# Чтобы упростить задачу, создадим признаки примерно одной размерности\n",
    "\n",
    "n_entrance = np.random.choice(9, n_samples) + 2 #кол-во подъездов в доме\n",
    "n_owners = np.random.choice(5, n_samples) + 1    #кол-во собственников квартиры\n",
    "dist = np.random.choice(10, n_samples) + 1       #расстояние до центра города, км\n",
    "price = np.random.choice(25, n_samples) + 5    #стоимость квадратного метра, тыс. руб."
   ]
  },
  {
   "cell_type": "markdown",
   "id": "c9d6206f",
   "metadata": {},
   "source": [
    "#### Целевая переменная - срок продажи квартиры в днях"
   ]
  },
  {
   "cell_type": "code",
   "execution_count": 166,
   "id": "d3ea3609",
   "metadata": {},
   "outputs": [],
   "source": [
    "term = 55*n_owners/dist + 5*price + 26"
   ]
  },
  {
   "cell_type": "code",
   "execution_count": 167,
   "id": "1898358c",
   "metadata": {},
   "outputs": [
    {
     "data": {
      "text/html": [
       "<div>\n",
       "<style scoped>\n",
       "    .dataframe tbody tr th:only-of-type {\n",
       "        vertical-align: middle;\n",
       "    }\n",
       "\n",
       "    .dataframe tbody tr th {\n",
       "        vertical-align: top;\n",
       "    }\n",
       "\n",
       "    .dataframe thead th {\n",
       "        text-align: right;\n",
       "    }\n",
       "</style>\n",
       "<table border=\"1\" class=\"dataframe\">\n",
       "  <thead>\n",
       "    <tr style=\"text-align: right;\">\n",
       "      <th></th>\n",
       "      <th>n_entrance</th>\n",
       "      <th>n_owners</th>\n",
       "      <th>dist</th>\n",
       "      <th>price</th>\n",
       "      <th>term</th>\n",
       "    </tr>\n",
       "  </thead>\n",
       "  <tbody>\n",
       "    <tr>\n",
       "      <th>0</th>\n",
       "      <td>8</td>\n",
       "      <td>5</td>\n",
       "      <td>8</td>\n",
       "      <td>13</td>\n",
       "      <td>125.375000</td>\n",
       "    </tr>\n",
       "    <tr>\n",
       "      <th>1</th>\n",
       "      <td>2</td>\n",
       "      <td>2</td>\n",
       "      <td>2</td>\n",
       "      <td>5</td>\n",
       "      <td>106.000000</td>\n",
       "    </tr>\n",
       "    <tr>\n",
       "      <th>2</th>\n",
       "      <td>7</td>\n",
       "      <td>3</td>\n",
       "      <td>2</td>\n",
       "      <td>11</td>\n",
       "      <td>163.500000</td>\n",
       "    </tr>\n",
       "    <tr>\n",
       "      <th>3</th>\n",
       "      <td>4</td>\n",
       "      <td>2</td>\n",
       "      <td>9</td>\n",
       "      <td>18</td>\n",
       "      <td>128.222222</td>\n",
       "    </tr>\n",
       "    <tr>\n",
       "      <th>4</th>\n",
       "      <td>4</td>\n",
       "      <td>2</td>\n",
       "      <td>3</td>\n",
       "      <td>24</td>\n",
       "      <td>182.666667</td>\n",
       "    </tr>\n",
       "  </tbody>\n",
       "</table>\n",
       "</div>"
      ],
      "text/plain": [
       "   n_entrance  n_owners  dist  price        term\n",
       "0           8         5     8     13  125.375000\n",
       "1           2         2     2      5  106.000000\n",
       "2           7         3     2     11  163.500000\n",
       "3           4         2     9     18  128.222222\n",
       "4           4         2     3     24  182.666667"
      ]
     },
     "execution_count": 167,
     "metadata": {},
     "output_type": "execute_result"
    }
   ],
   "source": [
    "data = pd.DataFrame({'n_entrance': n_entrance, 'n_owners': n_owners, 'dist': dist,'price':price, 'term':term})\n",
    "data.head()"
   ]
  },
  {
   "cell_type": "code",
   "execution_count": 168,
   "id": "165fd59f",
   "metadata": {},
   "outputs": [
    {
     "name": "stdout",
     "output_type": "stream",
     "text": [
      "Weigth: [[  0.14451101  16.17664525 -12.26806633   5.11156597]]\n",
      "Bias: [91.72126035]\n",
      "Error: 24.070855861270605\n"
     ]
    }
   ],
   "source": [
    "X = data[['n_entrance', 'n_owners', 'dist', 'price']]\n",
    "y = data[['term']]\n",
    "model = LinearRegression().fit(X,y)\n",
    "print(f'Weigth: {model.coef_}')\n",
    "print(f'Bias: {model.intercept_}')\n",
    "\n",
    "pred = model.predict(data[['n_entrance', 'n_owners', 'dist', 'price']])\n",
    "print(f'Error: {mean_absolute_error(pred,y)}')"
   ]
  },
  {
   "cell_type": "markdown",
   "id": "a64c5d9e",
   "metadata": {},
   "source": [
    "#### Попробуем убрать лишний столбец n_entrance"
   ]
  },
  {
   "cell_type": "code",
   "execution_count": 169,
   "id": "97cf3971",
   "metadata": {},
   "outputs": [
    {
     "name": "stdout",
     "output_type": "stream",
     "text": [
      "Weigth: [[ 16.17869277 -12.26928749   5.11208654]]\n",
      "Bias: [92.59069505]\n",
      "Error: 24.081929454355926\n"
     ]
    }
   ],
   "source": [
    "X = data[['n_owners', 'dist', 'price']]\n",
    "y = data[['term']]\n",
    "model = LinearRegression().fit(X,y)\n",
    "print(f'Weigth: {model.coef_}')\n",
    "print(f'Bias: {model.intercept_}')\n",
    "\n",
    "pred = model.predict(data[['n_owners', 'dist', 'price']])\n",
    "print(f'Error: {mean_absolute_error(pred,y)}')"
   ]
  },
  {
   "cell_type": "markdown",
   "id": "aa4685e3",
   "metadata": {},
   "source": [
    "#### Видим, что на качество модели столбец n_entrance не имел влияния, значит, в датасет его можно не включать.\n",
    "#### Попробуем получить новый признак используя столбец dist, предположив, что расстояние увеличивает срок продажи квартиры."
   ]
  },
  {
   "cell_type": "code",
   "execution_count": 170,
   "id": "1db12bb0",
   "metadata": {},
   "outputs": [],
   "source": [
    "data['dist_'] = 1/data['dist']"
   ]
  },
  {
   "cell_type": "code",
   "execution_count": 171,
   "id": "f1b1f763",
   "metadata": {},
   "outputs": [
    {
     "name": "stdout",
     "output_type": "stream",
     "text": [
      "Weigth: [[ 15.75859668 172.30698323   5.01535152]]\n",
      "Bias: [-22.59306957]\n",
      "Error: 12.74030657964326\n"
     ]
    }
   ],
   "source": [
    "X = data[['n_owners', 'dist_', 'price']]\n",
    "y = data[['term']]\n",
    "model = LinearRegression().fit(X,y)\n",
    "print(f'Weigth: {model.coef_}')\n",
    "print(f'Bias: {model.intercept_}')\n",
    "\n",
    "pred = model.predict(data[['n_owners', 'dist_', 'price']])\n",
    "print(f'Error: {mean_absolute_error(pred,y)}')"
   ]
  },
  {
   "cell_type": "markdown",
   "id": "96027c9b",
   "metadata": {},
   "source": [
    "#### Ошибка уменьшилась, значит предположение было верное. Попробуем заменить признаки n_owners и dist_ на их произведение и проверить как новый признак повлияет на качество модели.\n"
   ]
  },
  {
   "cell_type": "code",
   "execution_count": 172,
   "id": "ae41bf96",
   "metadata": {},
   "outputs": [],
   "source": [
    "data['owners_dist'] = data['n_owners']/data['dist']"
   ]
  },
  {
   "cell_type": "code",
   "execution_count": 173,
   "id": "9f6b888f",
   "metadata": {},
   "outputs": [
    {
     "name": "stdout",
     "output_type": "stream",
     "text": [
      "Weigth: [[55.  5.]]\n",
      "Bias: [26.]\n",
      "Error: 1.269739868803299e-14\n"
     ]
    }
   ],
   "source": [
    "X = data[['owners_dist', 'price']]\n",
    "y = data[['term']]\n",
    "model = LinearRegression().fit(X,y)\n",
    "print(f'Weigth: {model.coef_}')\n",
    "print(f'Bias: {model.intercept_}')\n",
    "\n",
    "pred = model.predict(data[['owners_dist', 'price']])\n",
    "print(f'Error: {mean_absolute_error(pred,y)}')"
   ]
  },
  {
   "cell_type": "markdown",
   "id": "e1a528d1",
   "metadata": {},
   "source": [
    "#### Получили ошибку близкую к нулю."
   ]
  },
  {
   "cell_type": "code",
   "execution_count": null,
   "id": "0b57cd5c",
   "metadata": {},
   "outputs": [],
   "source": []
  }
 ],
 "metadata": {
  "kernelspec": {
   "display_name": "Python 3",
   "language": "python",
   "name": "python3"
  },
  "language_info": {
   "codemirror_mode": {
    "name": "ipython",
    "version": 3
   },
   "file_extension": ".py",
   "mimetype": "text/x-python",
   "name": "python",
   "nbconvert_exporter": "python",
   "pygments_lexer": "ipython3",
   "version": "3.9.4"
  }
 },
 "nbformat": 4,
 "nbformat_minor": 5
}
