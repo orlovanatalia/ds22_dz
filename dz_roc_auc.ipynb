{
 "cells": [
  {
   "cell_type": "markdown",
   "id": "447bc616",
   "metadata": {},
   "source": [
    "### Домашнее задание к занятию \"Оценка точности модели\""
   ]
  },
  {
   "cell_type": "markdown",
   "id": "77112576",
   "metadata": {},
   "source": [
    "### Посчитать tpr и fpr в ноутбуке к лекции. Убедиться, что график ROC AUC получается таким же, как и штатными средствами."
   ]
  },
  {
   "cell_type": "markdown",
   "id": "03f0bc4d",
   "metadata": {},
   "source": [
    "#### 1. Построим модель и получим предсказания"
   ]
  },
  {
   "cell_type": "code",
   "execution_count": 79,
   "id": "c195197b",
   "metadata": {},
   "outputs": [],
   "source": [
    "import pandas as pd\n",
    "import numpy as np\n",
    "import  matplotlib.pyplot as plt\n",
    "from sklearn.model_selection import train_test_split\n",
    "from sklearn.linear_model import LogisticRegression\n"
   ]
  },
  {
   "cell_type": "code",
   "execution_count": 41,
   "id": "75507b0d",
   "metadata": {},
   "outputs": [
    {
     "data": {
      "text/html": [
       "<div>\n",
       "<style scoped>\n",
       "    .dataframe tbody tr th:only-of-type {\n",
       "        vertical-align: middle;\n",
       "    }\n",
       "\n",
       "    .dataframe tbody tr th {\n",
       "        vertical-align: top;\n",
       "    }\n",
       "\n",
       "    .dataframe thead th {\n",
       "        text-align: right;\n",
       "    }\n",
       "</style>\n",
       "<table border=\"1\" class=\"dataframe\">\n",
       "  <thead>\n",
       "    <tr style=\"text-align: right;\">\n",
       "      <th></th>\n",
       "      <th>rate_marriage</th>\n",
       "      <th>age</th>\n",
       "      <th>yrs_married</th>\n",
       "      <th>children</th>\n",
       "      <th>religious</th>\n",
       "      <th>educ</th>\n",
       "      <th>occupation</th>\n",
       "      <th>occupation_husb</th>\n",
       "      <th>affair</th>\n",
       "    </tr>\n",
       "  </thead>\n",
       "  <tbody>\n",
       "    <tr>\n",
       "      <th>0</th>\n",
       "      <td>3.0</td>\n",
       "      <td>32.0</td>\n",
       "      <td>9.0</td>\n",
       "      <td>3.0</td>\n",
       "      <td>3.0</td>\n",
       "      <td>17.0</td>\n",
       "      <td>2.0</td>\n",
       "      <td>5.0</td>\n",
       "      <td>1</td>\n",
       "    </tr>\n",
       "    <tr>\n",
       "      <th>1</th>\n",
       "      <td>3.0</td>\n",
       "      <td>27.0</td>\n",
       "      <td>13.0</td>\n",
       "      <td>3.0</td>\n",
       "      <td>1.0</td>\n",
       "      <td>14.0</td>\n",
       "      <td>3.0</td>\n",
       "      <td>4.0</td>\n",
       "      <td>1</td>\n",
       "    </tr>\n",
       "    <tr>\n",
       "      <th>2</th>\n",
       "      <td>4.0</td>\n",
       "      <td>22.0</td>\n",
       "      <td>2.5</td>\n",
       "      <td>0.0</td>\n",
       "      <td>1.0</td>\n",
       "      <td>16.0</td>\n",
       "      <td>3.0</td>\n",
       "      <td>5.0</td>\n",
       "      <td>1</td>\n",
       "    </tr>\n",
       "    <tr>\n",
       "      <th>3</th>\n",
       "      <td>4.0</td>\n",
       "      <td>37.0</td>\n",
       "      <td>16.5</td>\n",
       "      <td>4.0</td>\n",
       "      <td>3.0</td>\n",
       "      <td>16.0</td>\n",
       "      <td>5.0</td>\n",
       "      <td>5.0</td>\n",
       "      <td>1</td>\n",
       "    </tr>\n",
       "    <tr>\n",
       "      <th>4</th>\n",
       "      <td>5.0</td>\n",
       "      <td>27.0</td>\n",
       "      <td>9.0</td>\n",
       "      <td>1.0</td>\n",
       "      <td>1.0</td>\n",
       "      <td>14.0</td>\n",
       "      <td>3.0</td>\n",
       "      <td>4.0</td>\n",
       "      <td>1</td>\n",
       "    </tr>\n",
       "  </tbody>\n",
       "</table>\n",
       "</div>"
      ],
      "text/plain": [
       "   rate_marriage   age  yrs_married  children  religious  educ  occupation  \\\n",
       "0            3.0  32.0          9.0       3.0        3.0  17.0         2.0   \n",
       "1            3.0  27.0         13.0       3.0        1.0  14.0         3.0   \n",
       "2            4.0  22.0          2.5       0.0        1.0  16.0         3.0   \n",
       "3            4.0  37.0         16.5       4.0        3.0  16.0         5.0   \n",
       "4            5.0  27.0          9.0       1.0        1.0  14.0         3.0   \n",
       "\n",
       "   occupation_husb  affair  \n",
       "0              5.0       1  \n",
       "1              4.0       1  \n",
       "2              5.0       1  \n",
       "3              5.0       1  \n",
       "4              4.0       1  "
      ]
     },
     "execution_count": 41,
     "metadata": {},
     "output_type": "execute_result"
    }
   ],
   "source": [
    "data = pd.read_csv('affair_data.csv')\n",
    "data.head()"
   ]
  },
  {
   "cell_type": "code",
   "execution_count": 42,
   "id": "e2428efd",
   "metadata": {},
   "outputs": [
    {
     "data": {
      "text/html": [
       "<div>\n",
       "<style scoped>\n",
       "    .dataframe tbody tr th:only-of-type {\n",
       "        vertical-align: middle;\n",
       "    }\n",
       "\n",
       "    .dataframe tbody tr th {\n",
       "        vertical-align: top;\n",
       "    }\n",
       "\n",
       "    .dataframe thead th {\n",
       "        text-align: right;\n",
       "    }\n",
       "</style>\n",
       "<table border=\"1\" class=\"dataframe\">\n",
       "  <thead>\n",
       "    <tr style=\"text-align: right;\">\n",
       "      <th></th>\n",
       "      <th>rate_marriage</th>\n",
       "      <th>age</th>\n",
       "      <th>yrs_married</th>\n",
       "      <th>children</th>\n",
       "      <th>religious</th>\n",
       "      <th>educ</th>\n",
       "      <th>occupation</th>\n",
       "      <th>occupation_husb</th>\n",
       "    </tr>\n",
       "  </thead>\n",
       "  <tbody>\n",
       "    <tr>\n",
       "      <th>0</th>\n",
       "      <td>3.0</td>\n",
       "      <td>32.0</td>\n",
       "      <td>9.0</td>\n",
       "      <td>3.0</td>\n",
       "      <td>3.0</td>\n",
       "      <td>17.0</td>\n",
       "      <td>2.0</td>\n",
       "      <td>5.0</td>\n",
       "    </tr>\n",
       "    <tr>\n",
       "      <th>1</th>\n",
       "      <td>3.0</td>\n",
       "      <td>27.0</td>\n",
       "      <td>13.0</td>\n",
       "      <td>3.0</td>\n",
       "      <td>1.0</td>\n",
       "      <td>14.0</td>\n",
       "      <td>3.0</td>\n",
       "      <td>4.0</td>\n",
       "    </tr>\n",
       "  </tbody>\n",
       "</table>\n",
       "</div>"
      ],
      "text/plain": [
       "   rate_marriage   age  yrs_married  children  religious  educ  occupation  \\\n",
       "0            3.0  32.0          9.0       3.0        3.0  17.0         2.0   \n",
       "1            3.0  27.0         13.0       3.0        1.0  14.0         3.0   \n",
       "\n",
       "   occupation_husb  \n",
       "0              5.0  \n",
       "1              4.0  "
      ]
     },
     "execution_count": 42,
     "metadata": {},
     "output_type": "execute_result"
    }
   ],
   "source": [
    "X = data[data.columns[:-1]]\n",
    "X.head(2)"
   ]
  },
  {
   "cell_type": "code",
   "execution_count": 43,
   "id": "381e74b2",
   "metadata": {},
   "outputs": [],
   "source": [
    "Y = data['affair']"
   ]
  },
  {
   "cell_type": "code",
   "execution_count": 44,
   "id": "f2f304ed",
   "metadata": {},
   "outputs": [],
   "source": [
    "model = LogisticRegression()"
   ]
  },
  {
   "cell_type": "code",
   "execution_count": 45,
   "id": "f41a0ca9",
   "metadata": {},
   "outputs": [],
   "source": [
    "X_train, X_test, Y_train, Y_test = train_test_split(X, Y, test_size = 0.3, random_state = 0)"
   ]
  },
  {
   "cell_type": "code",
   "execution_count": 46,
   "id": "b1e91ec1",
   "metadata": {},
   "outputs": [
    {
     "data": {
      "text/plain": [
       "LogisticRegression()"
      ]
     },
     "execution_count": 46,
     "metadata": {},
     "output_type": "execute_result"
    }
   ],
   "source": [
    "model.fit(X_train, Y_train)"
   ]
  },
  {
   "cell_type": "code",
   "execution_count": 52,
   "id": "c3ca889e",
   "metadata": {},
   "outputs": [],
   "source": [
    "predictions = model.predict_proba(X_test)"
   ]
  },
  {
   "cell_type": "code",
   "execution_count": 53,
   "id": "93c5a6c7",
   "metadata": {},
   "outputs": [
    {
     "data": {
      "text/plain": [
       "array([[0.37442487, 0.62557513],\n",
       "       [0.92523133, 0.07476867],\n",
       "       [0.68436963, 0.31563037],\n",
       "       ...,\n",
       "       [0.54059868, 0.45940132],\n",
       "       [0.79790213, 0.20209787],\n",
       "       [0.77284695, 0.22715305]])"
      ]
     },
     "execution_count": 53,
     "metadata": {},
     "output_type": "execute_result"
    }
   ],
   "source": [
    "predictions"
   ]
  },
  {
   "cell_type": "code",
   "execution_count": 55,
   "id": "8c7c7fe2",
   "metadata": {},
   "outputs": [
    {
     "data": {
      "text/plain": [
       "array([0.62557513, 0.07476867, 0.31563037, ..., 0.45940132, 0.20209787,\n",
       "       0.22715305])"
      ]
     },
     "execution_count": 55,
     "metadata": {},
     "output_type": "execute_result"
    }
   ],
   "source": [
    "Y_hat = predictions[:,1]\n",
    "Y_hat"
   ]
  },
  {
   "cell_type": "markdown",
   "id": "ab10afec",
   "metadata": {},
   "source": [
    "#### 2. Построим ROC-кривую программным способом"
   ]
  },
  {
   "cell_type": "code",
   "execution_count": 142,
   "id": "8cc7d559",
   "metadata": {},
   "outputs": [],
   "source": [
    "from sklearn.metrics import roc_curve"
   ]
  },
  {
   "cell_type": "code",
   "execution_count": 143,
   "id": "ee8ebd58",
   "metadata": {},
   "outputs": [],
   "source": [
    "fpr_, tpr_, thresholds_ = roc_curve(Y_test, Y_hat)"
   ]
  },
  {
   "cell_type": "code",
   "execution_count": 144,
   "id": "ce9b2e81",
   "metadata": {},
   "outputs": [
    {
     "data": {
      "text/plain": [
       "846"
      ]
     },
     "execution_count": 144,
     "metadata": {},
     "output_type": "execute_result"
    }
   ],
   "source": [
    "len(thresholds_)"
   ]
  },
  {
   "cell_type": "code",
   "execution_count": 206,
   "id": "b06375fb",
   "metadata": {},
   "outputs": [
    {
     "data": {
      "image/png": "[encoded data removed]",
      "text/plain": [
       "<Figure size 576x432 with 1 Axes>"
      ]
     },
     "metadata": {
      "needs_background": "light"
     },
     "output_type": "display_data"
    }
   ],
   "source": [
    "plt.figure(figsize=[8,6])\n",
    "plt.plot(fpr_, tpr_, 'r')\n",
    "plt.grid()"
   ]
  },
  {
   "cell_type": "code",
   "execution_count": 146,
   "id": "51fd443d",
   "metadata": {},
   "outputs": [
    {
     "data": {
      "text/plain": [
       "846"
      ]
     },
     "execution_count": 146,
     "metadata": {},
     "output_type": "execute_result"
    }
   ],
   "source": [
    "len(thresholds_)"
   ]
  },
  {
   "cell_type": "markdown",
   "id": "c5c4e3e7",
   "metadata": {},
   "source": [
    "#### 2. Расчитаем fpr и tpr без функции roc_curve¶"
   ]
  },
  {
   "cell_type": "code",
   "execution_count": 177,
   "id": "0449f0a4",
   "metadata": {},
   "outputs": [],
   "source": [
    "# Функция для определения fpr и tpr\n",
    "def fpr_tpr_culc(y_test, y_hat, thres):\n",
    "    # выполним классификацию вектора предсказанных значений для одного из пороговых значений\n",
    "    out_vector = np.greater_equal(y_hat,thres).astype(int)\n",
    "    # расчитаем fpr и tpr\n",
    "    true_positive = np.equal(out_vector, 1) & np.equal(y_test, 1)\n",
    "    false_positive = np.equal(out_vector, 1) & np.equal(y_test, 0)\n",
    "    true_negative = np.equal(out_vector, 0) & np.equal(y_test, 0)\n",
    "    false_negative = np.equal(out_vector, 0) & np.equal(y_test, 1)\n",
    "    \n",
    "    fpr = false_positive.sum()/(false_positive.sum()+true_negative.sum())\n",
    "    tpr = true_positive.sum()/(true_positive.sum() + false_negative.sum())\n",
    "    return fpr, tpr"
   ]
  },
  {
   "cell_type": "code",
   "execution_count": 178,
   "id": "15baf716",
   "metadata": {},
   "outputs": [
    {
     "name": "stdout",
     "output_type": "stream",
     "text": [
      "(0.05372217958557176, 0.25370675453047775, 0.5872751896755191)\n"
     ]
    }
   ],
   "source": [
    "# выведем значение для проверки\n",
    "for line in zip(fpr_[100:101], tpr_[100:101], thresholds_[100:101]):\n",
    "    print(line)"
   ]
  },
  {
   "cell_type": "code",
   "execution_count": 179,
   "id": "c6a7139e",
   "metadata": {},
   "outputs": [
    {
     "data": {
      "text/plain": [
       "(0.05372217958557176, 0.25370675453047775)"
      ]
     },
     "execution_count": 179,
     "metadata": {},
     "output_type": "execute_result"
    }
   ],
   "source": [
    "fpr, tpr = fpr_tpr_culc(Y_test, Y_hat, 0.5872751896755191)\n",
    "fpr, tpr "
   ]
  },
  {
   "cell_type": "markdown",
   "id": "3fa6bca4",
   "metadata": {},
   "source": [
    "Вывод: Результат расчитанный вручную равен результату полученному при помощи функции roc_curve"
   ]
  },
  {
   "cell_type": "markdown",
   "id": "92808b4c",
   "metadata": {},
   "source": [
    "#### 3. Построим ROC-кривую без функции roc_curve и выведем две кривые на одном графике¶"
   ]
  },
  {
   "cell_type": "code",
   "execution_count": 229,
   "id": "748884a0",
   "metadata": {},
   "outputs": [],
   "source": [
    "def fpr_tpr_metrics (y_test, y_hat, partitions):\n",
    "    roc = np.array([])\n",
    "    for i in range(partitions +1):\n",
    "        fpr, tpr =  fpr_tpr_culc(y_test, y_hat, i/partitions)\n",
    "        roc = np.append(roc,[fpr, tpr])\n",
    "    return np.reshape(roc, (-1,2))    "
   ]
  },
  {
   "cell_type": "code",
   "execution_count": 230,
   "id": "bfdadc27",
   "metadata": {},
   "outputs": [],
   "source": [
    "roc = fpr_tpr_metrics(Y_test, Y_hat, 100)"
   ]
  },
  {
   "cell_type": "code",
   "execution_count": 237,
   "id": "f60c9e85",
   "metadata": {},
   "outputs": [
    {
     "data": {
      "image/png": "[encoded data removed]",
      "text/plain": [
       "<Figure size 864x720 with 1 Axes>"
      ]
     },
     "metadata": {
      "needs_background": "light"
     },
     "output_type": "display_data"
    }
   ],
   "source": [
    "plt.figure(figsize=[12,10])\n",
    "plt.plot(roc[:,0], roc[:,1], 'bo')\n",
    "plt.plot(fpr_, tpr_, 'r')\n",
    "plt.xlabel('False Positive Rate')\n",
    "plt.ylabel('True Positive Rate')\n",
    "plt.grid()"
   ]
  },
  {
   "cell_type": "code",
   "execution_count": null,
   "id": "c47ce3bf",
   "metadata": {},
   "outputs": [],
   "source": []
  }
 ],
 "metadata": {
  "kernelspec": {
   "display_name": "Python 3",
   "language": "python",
   "name": "python3"
  },
  "language_info": {
   "codemirror_mode": {
    "name": "ipython",
    "version": 3
   },
   "file_extension": ".py",
   "mimetype": "text/x-python",
   "name": "python",
   "nbconvert_exporter": "python",
   "pygments_lexer": "ipython3",
   "version": "3.9.4"
  }
 },
 "nbformat": 4,
 "nbformat_minor": 5
}
