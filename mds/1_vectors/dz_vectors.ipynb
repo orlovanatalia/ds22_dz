{
 "cells": [
  {
   "cell_type": "markdown",
   "metadata": {},
   "source": [
    "### Домашнее задание \"Линейная алгебра. Векторы\".\n",
    "Даны вектора x = (1,1), y = (2, 0) и z = (0,2)\n",
    "\n",
    "Надо:\n",
    "\n",
    "- Изобразить вектора на экране  \n",
    "- Изобразить точку x + y + z  \n",
    "- Найти угол между векторами x и y"
   ]
  },
  {
   "cell_type": "code",
   "execution_count": 1,
   "metadata": {},
   "outputs": [],
   "source": [
    "import numpy as np"
   ]
  },
  {
   "cell_type": "code",
   "execution_count": 2,
   "metadata": {},
   "outputs": [],
   "source": [
    "x = np.array([1.,1.])\n",
    "y = np.array([2., 0.])\n",
    "z = np.array([0.,2.])"
   ]
  },
  {
   "cell_type": "code",
   "execution_count": 34,
   "metadata": {},
   "outputs": [
    {
     "data": {
      "text/plain": [
       "array([3., 3.])"
      ]
     },
     "execution_count": 34,
     "metadata": {},
     "output_type": "execute_result"
    }
   ],
   "source": [
    "w = x + y + z\n",
    "w"
   ]
  },
  {
   "cell_type": "code",
   "execution_count": 36,
   "metadata": {},
   "outputs": [
    {
     "data": {
      "image/png": "[encoded data removed]",
      "text/plain": [
       "<Figure size 360x360 with 1 Axes>"
      ]
     },
     "metadata": {
      "needs_background": "light"
     },
     "output_type": "display_data"
    }
   ],
   "source": [
    "# Изобразить вектора на экране\n",
    "# Изобразить точку x + y + z\n",
    "import matplotlib.pyplot as plt\n",
    "U = [[0, 0, 0]]\n",
    "V = [[0, 0, 0]]\n",
    "X = [[1, 2, 0]]\n",
    "Y = [[1, 0, 2]]\n",
    "\n",
    "fig, ax = plt.subplots()\n",
    "fig.set_figwidth(5)   \n",
    "fig.set_figheight(5)  \n",
    "ax.quiver(U, V, X, Y, color = ['r','b','g'], scale=5)\n",
    "ax.set_xlim([-1, 4])\n",
    "ax.set_ylim([-1, 4])\n",
    "ax.plot(w[0], w[1], 'o')\n",
    "\n",
    "plt.show()"
   ]
  },
  {
   "cell_type": "markdown",
   "metadata": {},
   "source": [
    "- Найти угол между векторами x и y   \n",
    "Для нахождения угла воспользуемся формулой cos_a = (x,y) / |x| * |y|"
   ]
  },
  {
   "cell_type": "code",
   "execution_count": 37,
   "metadata": {},
   "outputs": [
    {
     "data": {
      "text/plain": [
       "2.0"
      ]
     },
     "execution_count": 37,
     "metadata": {},
     "output_type": "execute_result"
    }
   ],
   "source": [
    "dot_xy = np.dot(x,y)\n",
    "dot_xy"
   ]
  },
  {
   "cell_type": "code",
   "execution_count": 38,
   "metadata": {},
   "outputs": [
    {
     "data": {
      "text/plain": [
       "1.4142135623730951"
      ]
     },
     "execution_count": 38,
     "metadata": {},
     "output_type": "execute_result"
    }
   ],
   "source": [
    "mod_x = np.sqrt(x[0]**2 + x[1]**2)\n",
    "mod_x"
   ]
  },
  {
   "cell_type": "code",
   "execution_count": 39,
   "metadata": {},
   "outputs": [
    {
     "data": {
      "text/plain": [
       "2.0"
      ]
     },
     "execution_count": 39,
     "metadata": {},
     "output_type": "execute_result"
    }
   ],
   "source": [
    "mod_y = np.sqrt(y[0]**2 + y[1]**2)\n",
    "mod_y"
   ]
  },
  {
   "cell_type": "code",
   "execution_count": 41,
   "metadata": {},
   "outputs": [
    {
     "data": {
      "text/plain": [
       "0.7071067811865475"
      ]
     },
     "execution_count": 41,
     "metadata": {},
     "output_type": "execute_result"
    }
   ],
   "source": [
    "cos_a =  np.dot(x,y) / (np.sqrt(x[0]**2 + x[1]**2) * np.sqrt(y[0]**2 + y[1]**2))\n",
    "cos_a"
   ]
  },
  {
   "cell_type": "code",
   "execution_count": 53,
   "metadata": {},
   "outputs": [
    {
     "name": "stdout",
     "output_type": "stream",
     "text": [
      "Угол между х и у - 45.0 градусов\n"
     ]
    }
   ],
   "source": [
    "a = np.degrees(np.arccos(cos_a))\n",
    "print(f'Угол между х и у - {a:.4} градусов')"
   ]
  },
  {
   "cell_type": "code",
   "execution_count": null,
   "metadata": {},
   "outputs": [],
   "source": []
  }
 ],
 "metadata": {
  "kernelspec": {
   "display_name": "Python 3",
   "language": "python",
   "name": "python3"
  },
  "language_info": {
   "codemirror_mode": {
    "name": "ipython",
    "version": 3
   },
   "file_extension": ".py",
   "mimetype": "text/x-python",
   "name": "python",
   "nbconvert_exporter": "python",
   "pygments_lexer": "ipython3",
   "version": "3.8.3"
  }
 },
 "nbformat": 4,
 "nbformat_minor": 4
}
