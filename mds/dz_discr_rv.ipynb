{
 "cells": [
  {
   "cell_type": "markdown",
   "metadata": {
    "id": "T7ZzWaMVe71E"
   },
   "source": [
    "# Домашнее задание \"Теория вероятности. Дискретные Случайные Величины\"."
   ]
  },
  {
   "cell_type": "markdown",
   "metadata": {
    "id": "lanA1DNve73x"
   },
   "source": [
    "## Уровень 0:"
   ]
  },
  {
   "cell_type": "markdown",
   "metadata": {
    "id": "trLO6c0pfXRA"
   },
   "source": [
    "- Задание 1:"
   ]
  },
  {
   "cell_type": "markdown",
   "metadata": {
    "id": "1Fj_TgHpfXTP"
   },
   "source": [
    "Монетку подбрасывают 15 раз, найдите вероятность выпадения простого числа орлов."
   ]
  },
  {
   "cell_type": "markdown",
   "metadata": {},
   "source": [
    "Решение: Определим вероятность выпадения 7 орлов (7 - простое число) при помощи биноминального распределения."
   ]
  },
  {
   "cell_type": "code",
   "execution_count": 37,
   "metadata": {},
   "outputs": [],
   "source": [
    "import numpy as np\n",
    "import random\n",
    "import math\n",
    "import pandas as pd\n",
    "import matplotlib.pyplot as plt\n",
    "from scipy.stats import *\n",
    "import seaborn"
   ]
  },
  {
   "cell_type": "code",
   "execution_count": 6,
   "metadata": {},
   "outputs": [],
   "source": [
    "p = 0.5\n",
    "q = 0.5\n",
    "k = 7\n",
    "n = 15"
   ]
  },
  {
   "cell_type": "code",
   "execution_count": 8,
   "metadata": {},
   "outputs": [
    {
     "data": {
      "text/plain": [
       "6435.0"
      ]
     },
     "execution_count": 8,
     "metadata": {},
     "output_type": "execute_result"
    }
   ],
   "source": [
    "C = math.factorial(n)/(math.factorial(n - k)*math.factorial(k))\n",
    "C"
   ]
  },
  {
   "cell_type": "code",
   "execution_count": 12,
   "metadata": {},
   "outputs": [
    {
     "name": "stdout",
     "output_type": "stream",
     "text": [
      "Вероятность выпадения 7 орлов равна 0.196380615234375\n"
     ]
    }
   ],
   "source": [
    "P = C * p**k * q**(n-k)\n",
    "print(f'Вероятность выпадения 7 орлов равна {P}')"
   ]
  },
  {
   "cell_type": "markdown",
   "metadata": {
    "id": "uqHn2CtkfXVb"
   },
   "source": [
    "- Задание 2:"
   ]
  },
  {
   "cell_type": "markdown",
   "metadata": {
    "id": "dc5gqI8gfXXk"
   },
   "source": [
    "\n",
    "Создайте свою дискретную случайную величину с не менее, чем 10 значениями. Просемплируйте 1000 случайных значений, постройте гистограмму плотности распределения по выборке, посчитайте среднее, дисперсию и медиану."
   ]
  },
  {
   "cell_type": "code",
   "execution_count": 49,
   "metadata": {},
   "outputs": [
    {
     "data": {
      "text/plain": [
       "array([ 2,  9, 10,  5,  3,  2,  3,  1,  4,  4,  1,  8,  6,  1,  1,  2,  7,\n",
       "        4,  1,  9])"
      ]
     },
     "execution_count": 49,
     "metadata": {},
     "output_type": "execute_result"
    }
   ],
   "source": [
    "X = np.random.randint(low=1, high=11, size=1000)\n",
    "X[:20]"
   ]
  },
  {
   "cell_type": "code",
   "execution_count": 60,
   "metadata": {},
   "outputs": [
    {
     "name": "stdout",
     "output_type": "stream",
     "text": [
      "Среднее - 5.461\n",
      "Дисперсия - 8.084479\n",
      "Медиана - 5.0\n"
     ]
    }
   ],
   "source": [
    "print(f'Среднее - {np.mean(X)}')\n",
    "print(f'Дисперсия - {np.var(X)}')\n",
    "print(f'Медиана - {np.median(X)}')"
   ]
  },
  {
   "cell_type": "code",
   "execution_count": 72,
   "metadata": {},
   "outputs": [
    {
     "data": {
      "text/plain": [
       "(array([0.102, 0.097, 0.095, 0.117, 0.094, 0.101, 0.098, 0.096, 0.118,\n",
       "        0.082]),\n",
       " array([ 1,  2,  3,  4,  5,  6,  7,  8,  9, 10, 11]),\n",
       " <BarContainer object of 10 artists>)"
      ]
     },
     "execution_count": 72,
     "metadata": {},
     "output_type": "execute_result"
    },
    {
     "data": {
      "image/png": "[encoded data removed]",
      "text/plain": [
       "<Figure size 432x288 with 1 Axes>"
      ]
     },
     "metadata": {
      "needs_background": "light"
     },
     "output_type": "display_data"
    }
   ],
   "source": [
    "plt.hist(X, density=True, bins=[1,2,3,4,5,6,7,8,9,10,11])"
   ]
  },
  {
   "cell_type": "markdown",
   "metadata": {
    "id": "_6YnMFxzfS86"
   },
   "source": [
    "## Уровень 1:"
   ]
  },
  {
   "cell_type": "markdown",
   "metadata": {
    "id": "kCHPejMofn6b"
   },
   "source": [
    "- Задание 3:\n"
   ]
  },
  {
   "cell_type": "markdown",
   "metadata": {
    "id": "HfOQo_qkfmYC"
   },
   "source": [
    "Пусть брошены 3 уравновешенные монеты.\n",
    "\n",
    "Рассмотрим 3 события:\n",
    "\n",
    "A1 - монеты 1 и 2 упали одной и той же стороной;\n",
    "\n",
    "A2 - монеты 2 и 3 упали одной и той же стороной;\n",
    "\n",
    "A3 - монеты 1 и 3 упали одной и той же стороной.\n",
    "\n",
    "Покажите, почему эти 3 события (A1, A2, A3) являются попарно независимыми, но не являются независимыми в совокупности."
   ]
  },
  {
   "cell_type": "markdown",
   "metadata": {},
   "source": [
    "Ответ: события (A1, A2, A3) являются попарно независимыми, так как каждая монетка падает независимо от другой монетки и вероятность того какой стороной она упадет не зависит от того, как упала другая монетка.  \n",
    "В совокупности события (A1, A2, A3) не являются независимыми, так как наступление одного события влияет на вероятность другого события."
   ]
  },
  {
   "cell_type": "markdown",
   "metadata": {
    "id": "S29TzpYSfmaC"
   },
   "source": [
    "- Задание 4 (формула полной вероятности):\n"
   ]
  },
  {
   "cell_type": "markdown",
   "metadata": {
    "id": "tDprfzp-fmcP"
   },
   "source": [
    "В магазин привезли устройства с 3-х разных предприятий. \n",
    "\n",
    "Соотношение устройств следующее: 20% - продукция первого предприятия, 30% - продукция второго предприятия, 50% - продукция третьего предприятия; далее, 10% продукции первого предприятия высшего сорта, на втором предприятии - 5% и на третьем - 20% продукции высшего сорта. \n",
    "\n",
    "Найти вероятность того, что случайно купленная новая продукция окажется высшего сорта."
   ]
  },
  {
   "cell_type": "markdown",
   "metadata": {},
   "source": [
    "Решение: Пусть А - вероятность того, что случайно купленная новая продукция окажется высшего сорта,  \n",
    "B1,B2,B3 - вероятности того, что купили продукцию первого, второго и третьего предприятий соответственно,\n",
    "А1,А2,А3 - вероятности того, что купили продукцию высшего сорта первого, второго и третьего предприятий соответственно."
   ]
  },
  {
   "cell_type": "code",
   "execution_count": 73,
   "metadata": {},
   "outputs": [],
   "source": [
    "B1=0.2\n",
    "B2=0.3\n",
    "B3=0.5\n",
    "A1=0.1\n",
    "A2=0.05\n",
    "A3=0.2"
   ]
  },
  {
   "cell_type": "code",
   "execution_count": 74,
   "metadata": {},
   "outputs": [
    {
     "data": {
      "text/plain": [
       "0.135"
      ]
     },
     "execution_count": 74,
     "metadata": {},
     "output_type": "execute_result"
    }
   ],
   "source": [
    "A = A1*B1 + A2*B2 +A3*B3\n",
    "A"
   ]
  },
  {
   "cell_type": "code",
   "execution_count": null,
   "metadata": {},
   "outputs": [],
   "source": []
  }
 ],
 "metadata": {
  "colab": {
   "name": "HW_7",
   "provenance": []
  },
  "kernelspec": {
   "display_name": "Python 3",
   "language": "python",
   "name": "python3"
  },
  "language_info": {
   "codemirror_mode": {
    "name": "ipython",
    "version": 3
   },
   "file_extension": ".py",
   "mimetype": "text/x-python",
   "name": "python",
   "nbconvert_exporter": "python",
   "pygments_lexer": "ipython3",
   "version": "3.9.4"
  }
 },
 "nbformat": 4,
 "nbformat_minor": 1
}
